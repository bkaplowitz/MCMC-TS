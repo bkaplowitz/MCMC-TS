{
 "cells": [
  {
   "cell_type": "markdown",
   "metadata": {},
   "source": [
    "# Work for Tom Sargent\n",
    "By Brandon Kaplowitz\n",
    "\n",
    "Date: June 1, 2018 \n",
    "\n",
    "## Problem 1.1 from \"Marching Orders\"\n",
    "### Description of the Problem\n",
    "We take from 0 to T $$y_t=\\theta_ty_{t-1} + \\varepsilon_t$$ $$ \\theta_{t} = \\theta_{t-1}+\\nu_t $$\n",
    "where  \n",
    "$$\n",
    "\\begin{equation}\n",
    "\\left(\\begin{matrix}\n",
    "\\varepsilon_t \\\\\n",
    "\\nu_t \n",
    "\\end{matrix}\\right) \\sim \\mathcal{N}\\left(0,V\\right) \\ \\text{and}  \\ V= \\left[ \\begin{matrix} \n",
    "R & C \\\\\n",
    "C & Q \n",
    "\\end{matrix}\\right].\n",
    "\\end{equation}\n",
    "$$\n",
    "We suppose initial state $\\theta_0$ and $V$ are independent and their natural conjugate priors are\n",
    " $$\\theta_0 \\sim \\mathbb{1}_{|\\theta|<1}\\mathcal{N}\\left(\\bar{\\theta},\\bar{P}\\right) $$\n",
    " and \n",
    " $$ V\\sim \\mathcal{IW}\\left(\\bar{V}^{-1}, T_0\\right)$$ \n",
    " where $\\mathcal{IW}\\left(S,df\\right)$ is the inverse wishart distribution with scale matrix $S$ and degrees of freedom $df$. We suppose that $\\left(\\bar{\\theta}, \\bar{P}, \\bar{V}^{-1} , T_0\\right)$ are known and fixed.\n",
    " \n",
    " We  treat $\\theta_t$ as a hidden state variable following a driftless random walk with the truncated Gaussian distribution:\n",
    " \n",
    " $$p\\left(\\theta_{t+1}|\\theta_t,V\\right) \\propto \\mathbb{1}_{|\\theta_{t+1}| <1} \\mathcal{N}\\left(\\theta_t,Q\\right).$$\n",
    " \n",
    "### Description of Algorithm\n",
    "\n",
    "To solve this problem, we need to take the priors $\\theta_0 \\sim \\mathbb{1}_{|\\theta|<1}\\mathcal{N}\\left(\\bar{\\theta}, \\bar{P}\\right)$ and $V \\sim \\mathcal{IW}\\left(\\bar{V}^{-1}, T_0\\right)$ and multiply them by their likelihoods to find their posteriors. The posterior is $$p\\left(\\theta^T,V|y^T\\right) \\underbrace{=}_{\\text{By Bayes' Rule}} \\frac{p\\left(y^T|\\theta^T,V\\right)p\\left(\\theta^T,V\\right)}{p\\left(y^T\\right)}= \\frac{p\\left(y^T|\\theta^T,V\n",
    "\\right)p\\left(\\theta^T|V\\right)p\\left(V\\right)}{p\\left(y^T\\right)}$$\n",
    "$$ =\\frac{\\prod_{t=1}^{T}p\\left(y_t|y_{t-1},\\theta^T,V\\right)\\prod_{t=1}^{T}p\\left(\\theta_{t+1}|\\theta_{t},V\\right)p\\left(\\theta_0\\right)p\\left(V\\right)}{p\\left(y^T\\right)} $$\n",
    "We can see now that the first term is the likelihood, the second the Bayesian updating of $\\theta$ from a prior on $\\theta$ to a posterior on $\\theta_t$ given the $\\theta$ before it, and the last two terms the prior for $\\theta_0$ and $V$. \n",
    "Note that: $$p\\left(y_t|y_{t-1}, \\theta^T,V\\right)=  p\\left(\\theta_t y_{t-1}+\\varepsilon_t|\\theta_t, y_{t-1},\\varepsilon_{t-1} \\right)\\underbrace{=}_{iid}p\\left(\\varepsilon_t\\right) \\sim \\mathcal{N}\\left(\\theta_t y_{t-1},R\\right)$$\n",
    "$$p\\left(\\theta_{t+1} | \\theta_{t},V\\right) \\propto \\mathbb{1}_{|\\theta_{t+1}|<1}\\mathcal{N}\\left(\\theta_t,Q\\right)$$\n",
    "\n",
    "The procedure we use is as follows. We use a modification to MCMC called HMC, as well as the Metropolis-Hastings for speed comparison. We compute the numerator of the fraction given above to give a conditional pdf. We then take a proposal distribution, draw a new point from the proposal. If the ratio of the numerator of the new point to the old point is greater than 1 we accept. Otherwise we accept with the probability of the ratio times a correction for asymmetric distributions. We can ignore the denominator as we are examining the ratio of two pdfs, both of which will have the same denominator, which is a normalization.\n",
    "We now implement this procedure in PYMC3.\n",
    "## Implementation\n",
    "\n",
    "To actually implement this model, since $p(y_t|y_{t-1},\\theta^T,V)$ is incredibly difficult to calculate explicitly, we will use the built in Hierarchical GLM modeller in PYMC3. \n",
    "\n",
    "The model we will use looks as follows:\n",
    "\n",
    "![title](Source.gv.png)"
   ]
  },
  {
   "cell_type": "code",
   "execution_count": 1,
   "metadata": {},
   "outputs": [
    {
     "name": "stdout",
     "output_type": "stream",
     "text": [
      "Populating the interactive namespace from numpy and matplotlib\n"
     ]
    },
    {
     "name": "stderr",
     "output_type": "stream",
     "text": [
      "/Users/bkaplowitz-local/anaconda3/lib/python3.6/site-packages/h5py/__init__.py:36: FutureWarning: Conversion of the second argument of issubdtype from `float` to `np.floating` is deprecated. In future, it will be treated as `np.float64 == np.dtype(float).type`.\n",
      "  from ._conv import register_converters as _register_converters\n"
     ]
    }
   ],
   "source": [
    "%reset -f\n",
    "%pylab inline\n",
    "import pymc3 as pm\n",
    "import numpy as np\n",
    "import matplotlib\n",
    "from matplotlib import rc\n",
    "import seaborn as sns\n",
    "import theano as theano\n",
    "rc('font',**{'family':'sans-serif','sans-serif':['DejaVu Sans']})\n",
    "matplotlib.rcParams['mathtext.fontset'] = 'stixsans'\n",
    "import matplotlib.pylab as plt \n",
    "plt.rc('mathtext', fontset=\"cm\")\n",
    "import scipy.stats as st\n",
    "from pymc3.distributions import Continuous, Normal, MvNormal\n",
    "import theano.tensor as tt\n",
    "from theano import scan\n",
    "from pymc3.util import get_variable_name\n",
    "from pymc3.distributions.continuous import get_tau_sd, Normal, Flat\n",
    "from pymc3.distributions.dist_math import Cholesky\n",
    "from pymc3.distributions import multivariate\n",
    "from pymc3.distributions import distribution\n",
    "matplotlib.rcParams['font.sans-serif']='DejaVu Sans'\n",
    "## for Palatino and other serif fonts use:\n",
    "#rc('font',**{'family':'serif','serif':['Palatino']})\n",
    "plt.style.use('ggplot')"
   ]
  },
  {
   "cell_type": "code",
   "execution_count": 2,
   "metadata": {},
   "outputs": [],
   "source": [
    "T=50\n",
    "theta_true=np.empty([T+1,1])\n",
    "nu=np.empty([T+1,1])\n",
    "y_obs=np.empty([T+1,1])\n",
    "y_obs_last = np.empty([T+1,1])\n",
    "y_obs[0]=0\n",
    "theta_true[0]=.3\n",
    "errs=st.multivariate_normal.rvs(mean=[0,0], cov=[[2.0, 0.3], [0.3, 0.5]], size=T+1)\n",
    "nu=errs[:,0]\n",
    "err=errs[:,1]\n",
    "for t in range(1,T+1):\n",
    "    theta_true[t]=theta_true[t-1]+nu[t]\n",
    "    while (theta_true[t]>1 or theta_true[t]<-1):\n",
    "        theta_true[t]=st.norm.rvs(loc=theta_true[t-1], scale=np.sqrt(.5))\n",
    "    y_obs[t]= theta_true[t]*y_obs[t-1]+err[t]\n",
    "    y_obs_last[t]=y_obs[t-1]\n",
    "#fix constant values."
   ]
  },
  {
   "cell_type": "code",
   "execution_count": 3,
   "metadata": {},
   "outputs": [
    {
     "data": {
      "text/plain": [
       "<matplotlib.legend.Legend at 0xa27370320>"
      ]
     },
     "execution_count": 3,
     "metadata": {},
     "output_type": "execute_result"
    },
    {
     "data": {
      "image/png": "[encoded data removed]",
      "text/plain": [
       "<matplotlib.figure.Figure at 0x107c9b828>"
      ]
     },
     "metadata": {},
     "output_type": "display_data"
    }
   ],
   "source": [
    "plt.plot(y_obs, label=r'$y_t$') \n",
    "plt.plot(theta_true,label=r'$\\theta_t$')\n",
    "plt.legend()"
   ]
  },
  {
   "cell_type": "code",
   "execution_count": null,
   "metadata": {},
   "outputs": [],
   "source": [
    "#define the likelihood function used\n",
    "#TODO: Add random variable component that can be called to generate posterior predictive.\n",
    "class univautoreg(Continuous):\n",
    "    def __init__(self,theta0=None, v=None, *args, **kwargs):\n",
    "        super(univautoreg, self).__init__(*args, **kwargs)\n",
    "        self.theta0 = theta0\n",
    "        self.mean = tt.as_tensor_variable(0.)\n",
    "        self.v=v\n",
    "    def logp(self,value):\n",
    "        theta0=self.theta0\n",
    "        v=self.v\n",
    "        valuenew=value.flatten()\n",
    "        #consider doing tensor version of this to speed up\n",
    "        def calc_next_err(last_value,value,theta_last,theta_t,vin): #calculates next perior error epsilon_t, nu_t\n",
    "            this_period=[value,theta_t]\n",
    "            meanval=theta_last*last_value\n",
    "            last_period=[meanval,theta_last]\n",
    "            new_last=pm.math.stack(last_period)\n",
    "            new_this=pm.math.stack(this_period)\n",
    "            err = new_this-new_last\n",
    "            lik= MvNormal.dist(mu=np.zeros(2), cov=vin).logp(err) #likelihood of each is from multivariate normal\n",
    "            return lik\n",
    "        err_like, _  = scan(fn=calc_next_err,\n",
    "                         sequences=[dict(input=valuenew, taps=[-1,0]),dict(input=theta0, taps=[-1,0])],\n",
    "                         outputs_info=[None],\n",
    "                         non_sequences=[v]\n",
    "                        )\n",
    "        liketotal=tt.sum(err_like)\n",
    "        return (liketotal)"
   ]
  },
  {
   "cell_type": "code",
   "execution_count": null,
   "metadata": {},
   "outputs": [],
   "source": [
    "#Parameters needed to make model work.\n",
    "theta_bar = .5\n",
    "P_bar = .4\n",
    "P_bar_sd = np.sqrt(P_bar)\n",
    "V_bar = [[2,3],[3,4]]\n",
    "T_0 =.2\n",
    "with pm.Model() as model1:\n",
    "    #Variance function\n",
    "    BoundedGRW = pm.Bound(pm.GaussianRandomWalk, lower=-1.0, upper=1.0) #defines bounded gaussian random walk\n",
    "    packed_chol = pm.LKJCholeskyCov('chol_cov', n=2, eta= 2, sd_dist=pm.HalfCauchy.dist(beta=2.5)) #equivalent of p(V), gives prior on cholesky of COV\n",
    "    chol = pm.expand_packed_triangular(2, packed_chol, lower=True) #generates cholesky decomp. from packed triangular matrix in previous problem\n",
    "    v=pm.Deterministic('v',tt.dot(chol,chol.T)) #generates cov matrix from cholesky decomposition\n",
    "    sdtemp=tt.sqrt(tt.diag(v)) #takes sqrt of each variance to get sd\n",
    "    sd = sdtemp[1] #recovers sd\n",
    "    theta=BoundedGRW('theta', sd=sd, shape=len(y_obs)) #gives prior on sequence of thetas\n",
    "    like = univautoreg('like', theta0=theta, v=v, observed=y_obs) #specifies model from class\n",
    "    step =pm.Metropolis() #pm.NUTS() #sets type of model\n",
    "    # start= pm.find_MAP() see if I can figure out why it is generating NA or inf here.\n",
    "    tracemodel1 = pm.sample(100000,step=step) #runs sample on posterior"
   ]
  },
  {
   "cell_type": "code",
   "execution_count": null,
   "metadata": {},
   "outputs": [],
   "source": [
    "pm.summary(tracemodel1)"
   ]
  },
  {
   "cell_type": "code",
   "execution_count": null,
   "metadata": {},
   "outputs": [],
   "source": [
    "pm.hpd(tracemodel1)"
   ]
  },
  {
   "cell_type": "code",
   "execution_count": null,
   "metadata": {},
   "outputs": [],
   "source": [
    "pm.quantiles(tracemodel1)"
   ]
  },
  {
   "cell_type": "code",
   "execution_count": null,
   "metadata": {},
   "outputs": [],
   "source": [
    "pm.traceplot(tracemodel1[:], alpha=.3)"
   ]
  },
  {
   "cell_type": "code",
   "execution_count": null,
   "metadata": {},
   "outputs": [],
   "source": [
    "pm.autocorrplot(tracemodel1[0::2])"
   ]
  },
  {
   "cell_type": "code",
   "execution_count": null,
   "metadata": {},
   "outputs": [],
   "source": [
    "sns.kdeplot(tracemodel1[::2]['theta_0'])"
   ]
  },
  {
   "cell_type": "code",
   "execution_count": null,
   "metadata": {},
   "outputs": [],
   "source": [
    "sns.kdeplot(tracemodel1[::2]['v'])"
   ]
  },
  {
   "cell_type": "code",
   "execution_count": null,
   "metadata": {},
   "outputs": [],
   "source": [
    "model1.vars"
   ]
  },
  {
   "cell_type": "code",
   "execution_count": null,
   "metadata": {},
   "outputs": [],
   "source": [
    "model1.deterministics"
   ]
  },
  {
   "cell_type": "code",
   "execution_count": null,
   "metadata": {},
   "outputs": [],
   "source": [
    "plt.hist(postpred['like'], alpha=0.2, normed=True)\n",
    "sns.kdeplot(tr1['mu']);"
   ]
  },
  {
   "cell_type": "code",
   "execution_count": null,
   "metadata": {},
   "outputs": [],
   "source": []
  }
 ],
 "metadata": {
  "kernelspec": {
   "display_name": "Python 3",
   "language": "python",
   "name": "python3"
  },
  "language_info": {
   "codemirror_mode": {
    "name": "ipython",
    "version": 3
   },
   "file_extension": ".py",
   "mimetype": "text/x-python",
   "name": "python",
   "nbconvert_exporter": "python",
   "pygments_lexer": "ipython3",
   "version": "3.6.3"
  }
 },
 "nbformat": 4,
 "nbformat_minor": 2
}
