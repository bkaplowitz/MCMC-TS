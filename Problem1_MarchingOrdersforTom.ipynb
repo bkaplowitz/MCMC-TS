{
 "cells": [
  {
   "cell_type": "markdown",
   "metadata": {},
   "source": [
    "# Work for Tom Sargent\n",
    "By Brandon Kaplowitz\n",
    "\n",
    "Date: June 1, 2018 \n",
    "\n",
    "## Problem 1.1 from \"Marching Orders\"\n",
    "### Description of the Problem\n",
    "We take from 0 to T $$y_t=\\theta_ty_{t-1} + \\varepsilon_t$$ $$ \\theta_{t} = \\theta_{t-1}+\\nu_t $$\n",
    "where  \n",
    "$$\n",
    "\\begin{equation}\n",
    "\\left(\\begin{matrix}\n",
    "\\varepsilon_t \\\\\n",
    "\\nu_t \n",
    "\\end{matrix}\\right) \\sim \\mathcal{N}\\left(0,V\\right) \\ \\text{and}  \\ V= \\left[ \\begin{matrix} \n",
    "R & C \\\\\n",
    "C & Q \n",
    "\\end{matrix}\\right].\n",
    "\\end{equation}\n",
    "$$\n",
    "We suppose initial state $\\theta_0$ and $V$ are independent and their natural conjugate priors are\n",
    " $$\\theta_0 \\sim \\mathbb{1}_{|\\theta|<1}\\mathcal{N}\\left(\\bar{\\theta},\\bar{P}\\right) $$\n",
    " and \n",
    " $$ V\\sim \\mathcal{IW}\\left(\\bar{V}^{-1}, T_0\\right)$$ \n",
    " where $\\mathcal{IW}\\left(S,df\\right)$ is the inverse wishart distribution with scale matrix $S$ and degrees of freedom $df$. We suppose that $\\left(\\bar{\\theta}, \\bar{P}, \\bar{V}^{-1} , T_0\\right)$ are known and fixed.\n",
    " \n",
    " We  treat $\\theta_t$ as a hidden state variable following a driftless random walk with the truncated Gaussian distribution:\n",
    " \n",
    " $$p\\left(\\theta_{t+1}|\\theta_t,V\\right) \\propto \\mathbb{1}_{|\\theta_{t+1}| <1} \\mathcal{N}\\left(\\theta_t,Q\\right).$$\n",
    " \n",
    "### Description of Algorithm\n",
    "\n",
    "To solve this problem, we need to take the priors $\\theta_0 \\sim \\mathbb{1}_{|\\theta|<1}\\mathcal{N}\\left(\\bar{\\theta}, \\bar{P}\\right)$ and $V \\sim \\mathcal{IW}\\left(\\bar{V}^{-1}, T_0\\right)$ and multiply them by their likelihoods to find their posteriors. The posterior is $$p\\left(\\theta^T,V|y^T\\right) \\underbrace{=}_{\\text{By Bayes' Rule}} \\frac{p\\left(y^T|\\theta^T,V\\right)p\\left(\\theta^T,V\\right)}{p\\left(y^T\\right)}= \\frac{p\\left(y^T|\\theta^T,V\n",
    "\\right)p\\left(\\theta^T|V\\right)p\\left(V\\right)}{p\\left(y^T\\right)}$$\n",
    "$$ =\\frac{\\prod_{t=1}^{T}p\\left(y_t|y_{t-1},\\theta^T,V\\right)\\prod_{t=1}^{T}p\\left(\\theta_{t+1}|\\theta_{t},V\\right)p\\left(\\theta_0\\right)p\\left(V\\right)}{p\\left(y^T\\right)} $$\n",
    "We can see now that the first term is the likelihood, the second the Bayesian updating of $\\theta$ from a prior on $\\theta$ to a posterior on $\\theta_t$ given the $\\theta$ before it, and the last two terms the prior for $\\theta_0$ and $V$. \n",
    "Note that: $$p\\left(y_t|y_{t-1}, \\theta^T,V\\right)=  p\\left(\\theta_t y_{t-1}+\\varepsilon_t|\\theta_t, y_{t-1},\\varepsilon_{t-1} \\right)\\underbrace{=}_{iid}p\\left(\\varepsilon_t\\right) \\sim \\mathcal{N}\\left(\\theta_t y_{t-1},R\\right)$$\n",
    "$$p\\left(\\theta_{t+1} | \\theta_{t},V\\right) \\propto \\mathbb{1}_{|\\theta_{t+1}|<1}\\mathcal{N}\\left(\\theta_t,Q\\right)$$\n",
    "\n",
    "The procedure we use is as follows. We use a modification to MCMC called HMC, as well as the Metropolis-Hastings for speed comparison. We compute the numerator of the fraction given above to give a conditional pdf. We then take a proposal distribution, draw a new point from the proposal. If the ratio of the numerator of the new point to the old point is greater than 1 we accept. Otherwise we accept with the probability of the ratio times a correction for asymmetric distributions. We can ignore the denominator as we are examining the ratio of two pdfs, both of which will have the same denominator, which is a normalization.\n",
    "We now implement this procedure in PYMC3.\n",
    "## Implementation\n",
    "\n",
    "To actually implement this model, since $p(y_t|y_{t-1},\\theta^T,V)$ is incredibly difficult to calculate explicitly, we will use the built in Hierarchical GLM modeller in PYMC3. \n",
    "\n",
    "The model we will use looks as follows:\n",
    "\n",
    "![title](Source.gv.png)"
   ]
  },
  {
   "cell_type": "code",
   "execution_count": 1,
   "metadata": {},
   "outputs": [
    {
     "name": "stdout",
     "output_type": "stream",
     "text": [
      "Populating the interactive namespace from numpy and matplotlib\n"
     ]
    },
    {
     "name": "stderr",
     "output_type": "stream",
     "text": [
      "/Users/bkaplowitz-local/anaconda3/lib/python3.6/site-packages/h5py/__init__.py:36: FutureWarning: Conversion of the second argument of issubdtype from `float` to `np.floating` is deprecated. In future, it will be treated as `np.float64 == np.dtype(float).type`.\n",
      "  from ._conv import register_converters as _register_converters\n"
     ]
    }
   ],
   "source": [
    "%reset -f\n",
    "%pylab inline\n",
    "import pymc3 as pm\n",
    "import numpy as np\n",
    "import matplotlib\n",
    "from matplotlib import rc\n",
    "import seaborn as sns\n",
    "import theano as theano\n",
    "rc('font',**{'family':'sans-serif','sans-serif':['DejaVu Sans']})\n",
    "matplotlib.rcParams['mathtext.fontset'] = 'stixsans'\n",
    "import matplotlib.pylab as plt \n",
    "plt.rc('mathtext', fontset=\"cm\")\n",
    "import scipy.stats as st\n",
    "from pymc3.distributions import Continuous, Normal, MvNormal\n",
    "import theano.tensor as tt\n",
    "from theano import scan\n",
    "from pymc3.util import get_variable_name\n",
    "from pymc3.distributions.continuous import get_tau_sd, Normal, Flat\n",
    "from pymc3.distributions.dist_math import Cholesky\n",
    "from pymc3.distributions import multivariate\n",
    "from pymc3.distributions import distribution\n",
    "matplotlib.rcParams['font.sans-serif']='DejaVu Sans'\n",
    "## for Palatino and other serif fonts use:\n",
    "#rc('font',**{'family':'serif','serif':['Palatino']})\n",
    "plt.style.use('ggplot')"
   ]
  },
  {
   "cell_type": "code",
   "execution_count": 2,
   "metadata": {},
   "outputs": [],
   "source": [
    "T=50\n",
    "theta_true=np.empty([T+1,1])\n",
    "y_obs=np.empty([T+1,1])\n",
    "theta_true[0]=st.norm.rvs(loc=.3,scale=.2)\n",
    "while (theta_true[0]>1 or theta_true[0]<-1):\n",
    "    theta_true[0]=st.norm.rvs(loc=.3,scale=.2)\n",
    "errs=st.multivariate_normal.rvs(mean=[0,0], cov=[[0.4, 0.3], [0.3, 0.5]], size=T+1)\n",
    "nu=errs[:,0]\n",
    "err=errs[:,1]\n",
    "y_obs[0]=err[0]\n",
    "for t in range(1,T+1):\n",
    "    theta_true[t]=theta_true[t-1]+nu[t]\n",
    "    while (theta_true[t]>1 or theta_true[t]<-1):\n",
    "        theta_true[t]=st.norm.rvs(loc=theta_true[t-1], scale=np.sqrt(.5))\n",
    "    y_obs[t]= theta_true[t]*y_obs[t-1]+err[t]\n",
    "#fix constant values."
   ]
  },
  {
   "cell_type": "code",
   "execution_count": 3,
   "metadata": {},
   "outputs": [
    {
     "name": "stdout",
     "output_type": "stream",
     "text": [
      "[[ 1.59722646]\n",
      " [-0.22992241]\n",
      " [ 0.41749801]\n",
      " [-0.38444927]\n",
      " [ 0.14744614]\n",
      " [-1.23790377]\n",
      " [ 0.57822715]\n",
      " [-0.25057637]\n",
      " [ 0.79886619]\n",
      " [ 0.07821051]\n",
      " [-0.19785457]\n",
      " [-0.66588957]\n",
      " [-0.38795343]\n",
      " [-0.43665071]\n",
      " [ 0.58880719]\n",
      " [-0.7610561 ]\n",
      " [ 0.51826793]\n",
      " [-1.5178431 ]\n",
      " [ 1.11049995]\n",
      " [ 0.32942241]\n",
      " [-0.3821152 ]\n",
      " [-1.68091212]\n",
      " [-0.31440011]\n",
      " [-0.38629911]\n",
      " [ 0.40963855]\n",
      " [-0.51390287]\n",
      " [-0.70581078]\n",
      " [ 0.9041323 ]\n",
      " [ 0.46762401]\n",
      " [ 0.101485  ]\n",
      " [-0.41286125]\n",
      " [ 0.07290398]\n",
      " [ 0.38598099]\n",
      " [-0.26204029]\n",
      " [-0.76074521]\n",
      " [-0.16262109]\n",
      " [-0.48233288]\n",
      " [-0.27948415]\n",
      " [ 0.31645876]\n",
      " [-0.09130914]\n",
      " [ 0.10518022]\n",
      " [ 0.34249999]\n",
      " [-0.76593886]\n",
      " [-0.23386299]\n",
      " [ 0.08879109]\n",
      " [ 0.06040168]\n",
      " [-0.32386704]\n",
      " [ 1.26422764]\n",
      " [ 1.82443193]\n",
      " [ 0.00776304]\n",
      " [-0.01095989]]\n",
      "[[ 0.38379913]\n",
      " [-0.87624177]\n",
      " [ 0.3493096 ]\n",
      " [ 0.55558469]\n",
      " [-0.21596845]\n",
      " [-0.36768736]\n",
      " [-0.11108269]\n",
      " [-0.33516807]\n",
      " [-0.28464915]\n",
      " [-0.07851427]\n",
      " [ 0.16135616]\n",
      " [-0.52595032]\n",
      " [-0.76279464]\n",
      " [-0.40685614]\n",
      " [-0.3135136 ]\n",
      " [-0.78771462]\n",
      " [-0.76625072]\n",
      " [-0.4341085 ]\n",
      " [-0.89905749]\n",
      " [-0.34273033]\n",
      " [-0.08800182]\n",
      " [ 0.08210431]\n",
      " [-0.18950554]\n",
      " [-0.34202676]\n",
      " [-0.34398067]\n",
      " [-0.34015946]\n",
      " [-0.25346692]\n",
      " [-0.20764513]\n",
      " [ 0.4746967 ]\n",
      " [ 0.28933662]\n",
      " [ 0.10520274]\n",
      " [-0.61688953]\n",
      " [ 0.26588501]\n",
      " [ 0.2310792 ]\n",
      " [-0.08542707]\n",
      " [ 0.32480813]\n",
      " [-0.17578315]\n",
      " [-0.98468468]\n",
      " [-0.63812582]\n",
      " [-0.28008537]\n",
      " [-0.17341714]\n",
      " [-0.23887415]\n",
      " [-0.42591507]\n",
      " [-0.36091345]\n",
      " [ 0.32211218]\n",
      " [ 0.37807466]\n",
      " [ 0.57261341]\n",
      " [ 0.62759759]\n",
      " [ 0.76554979]\n",
      " [ 0.48776446]\n",
      " [ 0.14056497]]\n"
     ]
    },
    {
     "data": {
      "text/plain": [
       "<matplotlib.legend.Legend at 0xa273b6908>"
      ]
     },
     "execution_count": 3,
     "metadata": {},
     "output_type": "execute_result"
    },
    {
     "data": {
      "image/png": "[encoded data removed]",
      "text/plain": [
       "<matplotlib.figure.Figure at 0x10839fef0>"
      ]
     },
     "metadata": {},
     "output_type": "display_data"
    }
   ],
   "source": [
    "plt.plot(y_obs, label=r'$y_t$') \n",
    "plt.plot(theta_true,label=r'$\\theta_t$')\n",
    "print(y_obs)\n",
    "print(theta_true)\n",
    "plt.legend()"
   ]
  },
  {
   "cell_type": "code",
   "execution_count": 4,
   "metadata": {},
   "outputs": [],
   "source": [
    "#define the likelihood function used\n",
    "#TODO: Add random variable component that can be called to generate posterior predictive.\n",
    "class univautoreg(Continuous):\n",
    "    def __init__(self,theta0=None, v=None, *args, **kwargs):\n",
    "        super(univautoreg, self).__init__(*args, **kwargs)\n",
    "        self.theta0 = theta0\n",
    "        self.mean = tt.as_tensor_variable(0.)\n",
    "        self.v=v\n",
    "    def logp(self,value):\n",
    "        theta0=self.theta0\n",
    "        v=self.v\n",
    "        theta=theta0.flatten()\n",
    "        valuenew=value.flatten()\n",
    "        #consider doing tensor version of this to speed up\n",
    "        def calc_next_err(value,last_value,theta_t,theta_last,vin): #calculates next period error epsilon_t, nu_t\n",
    "            this_period=pm.math.stack([value,theta_t],axis=0)\n",
    "            meanval=theta_t*last_value\n",
    "            last_period=pm.math.stack([meanval,theta_last],axis=0)\n",
    "            err=this_period-last_period\n",
    "            errnew=err.reshape([2,1])\n",
    "            lik= MvNormal.dist(mu=np.zeros(2), cov=vin).logp(errnew) #likelihood of each is from multivariate normal #check if possible misspecification here\n",
    "            return lik\n",
    "        err_like, _  = scan(fn=calc_next_err,\n",
    "                         sequences=[dict(input=valuenew, taps=[0,-1]),dict(input=theta, taps=[0,-1])],\n",
    "                         outputs_info=[None],\n",
    "                         non_sequences=[v]\n",
    "                        )\n",
    "        liketotal=tt.sum(err_like)\n",
    "        return (liketotal)"
   ]
  },
  {
   "cell_type": "code",
   "execution_count": null,
   "metadata": {},
   "outputs": [
    {
     "name": "stderr",
     "output_type": "stream",
     "text": [
      "Auto-assigning NUTS sampler...\n",
      "Initializing NUTS using jitter+adapt_diag...\n",
      "Multiprocess sampling (4 chains in 4 jobs)\n",
      "NUTS: [theta_interval__, chol_cov_cholesky_cov_packed__]\n",
      "  3%|▎         | 45/1500 [01:52<1:00:48,  2.51s/it]"
     ]
    }
   ],
   "source": [
    "#Parameters needed to make model work.\n",
    "theta_bar = .5\n",
    "P_bar = 2\n",
    "P_bar_sd = np.sqrt(P_bar)\n",
    "with pm.Model() as model1:\n",
    "    #Variance function\n",
    "    BoundedNorm = pm.Bound(pm.Normal,lower=-1.0,upper=1.0) #defines bounded normal\n",
    "    BoundedGRW = pm.Bound(pm.GaussianRandomWalk, lower=-1.0, upper=1.0) #defines bounded gaussian random walk\n",
    "    packed_cov = pm.LKJCholeskyCov('chol_cov', n=2, eta=2., sd_dist=pm.HalfCauchy.dist(beta=1.5)) #equivalent of p(V), gives prior on cholesky of COV\n",
    "    chol = pm.expand_packed_triangular(2,packed_cov) #generates cholesky decomp. from packed triangular matrix in previous problem\n",
    "    v=pm.Deterministic('v',tt.dot(chol,chol.T)) #generates cov matrix from cholesky decomposition\n",
    "    sdtemp=tt.sqrt(tt.diag(v)) #takes sqrt of each variance to get sd\n",
    "    sd = sdtemp[1] #recovers sd\n",
    "    #Theta prior\n",
    "    thetainit=BoundedNorm.dist(mu=theta_bar,sd=P_bar_sd)\n",
    "    #Theta Updating Process\n",
    "    theta=BoundedGRW('theta', sd=sd, init=thetainit, shape=len(y_obs)) #gives prior on sequence of thetas\n",
    "    #Likelihood function\n",
    "    like = univautoreg('like', theta0=theta, v=v, observed=y_obs) #specifies model from class\n",
    "    tracemodel1 = pm.sample(tune=1000,samples=1000) #runs sample on posterior"
   ]
  },
  {
   "cell_type": "code",
   "execution_count": null,
   "metadata": {},
   "outputs": [],
   "source": [
    "pm.summary(tracemodel1)"
   ]
  },
  {
   "cell_type": "code",
   "execution_count": null,
   "metadata": {},
   "outputs": [],
   "source": [
    "pm.hpd(tracemodel1)"
   ]
  },
  {
   "cell_type": "code",
   "execution_count": null,
   "metadata": {},
   "outputs": [],
   "source": [
    "pm.quantiles(tracemodel1)"
   ]
  },
  {
   "cell_type": "code",
   "execution_count": null,
   "metadata": {},
   "outputs": [],
   "source": [
    "pm.traceplot(tracemodel1[:], alpha=.3)"
   ]
  },
  {
   "cell_type": "code",
   "execution_count": null,
   "metadata": {},
   "outputs": [],
   "source": [
    "pm.autocorrplot(tracemodel1[0::2])"
   ]
  },
  {
   "cell_type": "code",
   "execution_count": null,
   "metadata": {},
   "outputs": [],
   "source": [
    "sns.kdeplot(tracemodel1[::2]['theta'])"
   ]
  },
  {
   "cell_type": "code",
   "execution_count": null,
   "metadata": {},
   "outputs": [],
   "source": [
    "sns.kdeplot(tracemodel1[::2]['v'])"
   ]
  },
  {
   "cell_type": "code",
   "execution_count": null,
   "metadata": {},
   "outputs": [],
   "source": [
    "model1.vars"
   ]
  },
  {
   "cell_type": "code",
   "execution_count": null,
   "metadata": {},
   "outputs": [],
   "source": [
    "model1.deterministics\n",
    "#postpred= pm.sample_ppc(tracemodel1,samples=500, model=model1, size=100)"
   ]
  },
  {
   "cell_type": "code",
   "execution_count": null,
   "metadata": {},
   "outputs": [],
   "source": [
    "plt.hist(postpred['like'], alpha=0.2, normed=True)\n",
    "sns.kdeplot(tr1['mu']);"
   ]
  },
  {
   "cell_type": "code",
   "execution_count": null,
   "metadata": {},
   "outputs": [],
   "source": []
  }
 ],
 "metadata": {
  "kernelspec": {
   "display_name": "Python 3",
   "language": "python",
   "name": "python3"
  },
  "language_info": {
   "codemirror_mode": {
    "name": "ipython",
    "version": 3
   },
   "file_extension": ".py",
   "mimetype": "text/x-python",
   "name": "python",
   "nbconvert_exporter": "python",
   "pygments_lexer": "ipython3",
   "version": "3.6.3"
  }
 },
 "nbformat": 4,
 "nbformat_minor": 2
}
